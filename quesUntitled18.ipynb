{
  "metadata": {
    "language_info": {
      "codemirror_mode": {
        "name": "python",
        "version": 3
      },
      "file_extension": ".py",
      "mimetype": "text/x-python",
      "name": "python",
      "nbconvert_exporter": "python",
      "pygments_lexer": "ipython3",
      "version": "3.8"
    },
    "kernelspec": {
      "name": "python",
      "display_name": "Python (Pyodide)",
      "language": "python"
    }
  },
  "nbformat_minor": 4,
  "nbformat": 4,
  "cells": [
    {
      "cell_type": "code",
      "source": "#q1. type ineroun\nn=4\nfor i in range(4):\n    for j in range(0, i+1):\n        print(\"ineroun\" , end= \"  \")\n    print(\"\\n\")",
      "metadata": {
        "trusted": true
      },
      "execution_count": 11,
      "outputs": [
        {
          "name": "stdout",
          "text": "ineroun  \n\nineroun  ineroun  \n\nineroun  ineroun  ineroun  \n\nineroun  ineroun  ineroun  ineroun  \n\n",
          "output_type": "stream"
        }
      ]
    },
    {
      "cell_type": "code",
      "source": "#q2. type ineroun\nn=5\nfor i in range(n):\n    for j in range(i, n-1):\n        print(\" \" * len(\"ineroun\"), end=\" \")\n    for j in range(i+1):\n        print(\"ineroun\",end=\" \")\n    for j in range(i):\n        print(\"ineroun\", end=\" \")\n    print()\n        ",
      "metadata": {
        "trusted": true
      },
      "execution_count": 23,
      "outputs": [
        {
          "name": "stdout",
          "text": "                                ineroun \n                        ineroun ineroun ineroun \n                ineroun ineroun ineroun ineroun ineroun \n        ineroun ineroun ineroun ineroun ineroun ineroun ineroun \nineroun ineroun ineroun ineroun ineroun ineroun ineroun ineroun ineroun \n",
          "output_type": "stream"
        }
      ]
    },
    {
      "cell_type": "code",
      "source": "\nl=[[1,2,3,4],(2,3,4,5,6),(3,4,5,6,7),([23,4,5,45,4,4,5,45,45,4,5]),{\"k1\":\"varsha\",\"k2\":\"ineroun\",\"k3\":\"GS\",3:6,7:8},[\"ineroun\",\"datascience\"]]\n\n#q3. try to extract all the list entity:\nfor i in l:\n    if type(i) == list:\n        print(i)",
      "metadata": {
        "trusted": true
      },
      "execution_count": null,
      "outputs": []
    },
    {
      "cell_type": "code",
      "source": "#q4.try to extract all the dict:\nfor i in l:\n    if type(i) == dict:\n        print(i)",
      "metadata": {
        "trusted": true
      },
      "execution_count": 25,
      "outputs": [
        {
          "name": "stdout",
          "text": "{'k1': 'varsha', 'k2': 'ineroun', 'k3': 'GS', 3: 6, 7: 8}\n",
          "output_type": "stream"
        }
      ]
    },
    {
      "cell_type": "code",
      "source": "#q5.try to extract tuples:\nfor i in l:\n    if type(i) == tuple:\n        print(i)",
      "metadata": {
        "trusted": true
      },
      "execution_count": 26,
      "outputs": [
        {
          "name": "stdout",
          "text": "(2, 3, 4, 5, 6)\n(3, 4, 5, 6, 7)\n",
          "output_type": "stream"
        }
      ]
    },
    {
      "cell_type": "code",
      "source": "#q6.try to extract all the numeric value\n\nl",
      "metadata": {
        "trusted": true
      },
      "execution_count": null,
      "outputs": []
    },
    {
      "cell_type": "code",
      "source": "\nfor i in l:\n    if type(i) == list or type(i) == tuple:\n        for j in i:\n            if type(j) == int:\n                print(j)",
      "metadata": {
        "trusted": true
      },
      "execution_count": 70,
      "outputs": [
        {
          "name": "stdout",
          "text": "1\n2\n3\n4\n2\n3\n4\n5\n6\n3\n4\n5\n6\n7\n23\n4\n5\n45\n4\n4\n5\n45\n45\n4\n5\n",
          "output_type": "stream"
        }
      ]
    },
    {
      "cell_type": "code",
      "source": "#q7.submission:\nfor i in l:\n    if type(i) == list or type(i) == tuple:\n        for j in i:\n            if type(j) == int:\n                print(j, j+4)",
      "metadata": {
        "trusted": true
      },
      "execution_count": 74,
      "outputs": [
        {
          "name": "stdout",
          "text": "1 5\n2 6\n3 7\n4 8\n2 6\n3 7\n4 8\n5 9\n6 10\n3 7\n4 8\n5 9\n6 10\n7 11\n23 27\n4 8\n5 9\n45 49\n4 8\n4 8\n5 9\n45 49\n45 49\n4 8\n5 9\n",
          "output_type": "stream"
        }
      ]
    },
    {
      "cell_type": "code",
      "source": "#q8.Extract all the odd:\nfor i in l:\n    if type(i) == list or type(i) == tuple:\n        for j in i:\n            if(j%2 !=0):\n                print(\"{0}\".format(j))",
      "metadata": {
        "trusted": true
      },
      "execution_count": 17,
      "outputs": [
        {
          "name": "stdout",
          "text": "1\n3\n3\n5\n3\n5\n7\n23\n5\n45\n5\n45\n45\n5\n",
          "output_type": "stream"
        },
        {
          "ename": "<class 'TypeError'>",
          "evalue": "not all arguments converted during string formatting",
          "traceback": [
            "\u001b[0;31m---------------------------------------------------------------------------\u001b[0m",
            "\u001b[0;31mTypeError\u001b[0m                                 Traceback (most recent call last)",
            "Input \u001b[0;32mIn [17]\u001b[0m, in \u001b[0;36m<cell line: 2>\u001b[0;34m()\u001b[0m\n\u001b[1;32m      3\u001b[0m \u001b[38;5;28;01mif\u001b[39;00m \u001b[38;5;28mtype\u001b[39m(i) \u001b[38;5;241m==\u001b[39m \u001b[38;5;28mlist\u001b[39m \u001b[38;5;129;01mor\u001b[39;00m \u001b[38;5;28mtype\u001b[39m(i) \u001b[38;5;241m==\u001b[39m \u001b[38;5;28mtuple\u001b[39m:\n\u001b[1;32m      4\u001b[0m     \u001b[38;5;28;01mfor\u001b[39;00m j \u001b[38;5;129;01min\u001b[39;00m i:\n\u001b[0;32m----> 5\u001b[0m         \u001b[38;5;28;01mif\u001b[39;00m(\u001b[43mj\u001b[49m\u001b[38;5;241;43m%\u001b[39;49m\u001b[38;5;241;43m2\u001b[39;49m \u001b[38;5;241m!=\u001b[39m\u001b[38;5;241m0\u001b[39m):\n\u001b[1;32m      6\u001b[0m             \u001b[38;5;28mprint\u001b[39m(\u001b[38;5;124m\"\u001b[39m\u001b[38;5;132;01m{0}\u001b[39;00m\u001b[38;5;124m\"\u001b[39m\u001b[38;5;241m.\u001b[39mformat(j))\n",
            "\u001b[0;31mTypeError\u001b[0m: not all arguments converted during string formatting"
          ],
          "output_type": "error"
        }
      ]
    },
    {
      "cell_type": "code",
      "source": "#q9. try to extract ineroun:\nfor i in l:\n    if type(i) == dict:\n        for j in i.items():\n            if j == \"ineroun\":\n                print(j)",
      "metadata": {
        "trusted": true
      },
      "execution_count": 40,
      "outputs": []
    },
    {
      "cell_type": "code",
      "source": "for i in l:\n    if type(i) == dict:\n        for j in i.items():\n            print(j)",
      "metadata": {
        "trusted": true
      },
      "execution_count": 41,
      "outputs": [
        {
          "name": "stdout",
          "text": "('k1', 'varsha')\n('k2', 'ineroun')\n('k3', 'GS')\n(3, 6)\n(7, 8)\n",
          "output_type": "stream"
        }
      ]
    },
    {
      "cell_type": "code",
      "source": "#q10. try to out a numbers:\nfor i in l:\n    if type(i) == list or type(i) == tuple or type(i) ==set:\n        for j in i:\n            if type(j) == int:\n                print(j)\n            ",
      "metadata": {
        "trusted": true
      },
      "execution_count": 45,
      "outputs": [
        {
          "name": "stdout",
          "text": "1\n2\n3\n4\n2\n3\n4\n5\n6\n3\n4\n5\n6\n7\n23\n4\n5\n45\n4\n4\n5\n45\n45\n4\n5\n",
          "output_type": "stream"
        }
      ]
    },
    {
      "cell_type": "code",
      "source": "#q11. try to out number or keys in dict:\nfor i in l:\n    if type(i) == dict:\n        for j in i.items():\n           \n                print(j)\n    ",
      "metadata": {
        "trusted": true
      },
      "execution_count": 55,
      "outputs": [
        {
          "name": "stdout",
          "text": "('k1', 'varsha')\n('k2', 'ineroun')\n('k3', 'GS')\n(3, 6)\n(7, 8)\n",
          "output_type": "stream"
        }
      ]
    },
    {
      "cell_type": "code",
      "source": "#q12. try to filter all the str data:\nfor i in l:\n    if type(i) == list or type(i) == dict:\n        for j in i:\n            if type(j) == str:\n                print(j)",
      "metadata": {
        "trusted": true
      },
      "execution_count": 57,
      "outputs": [
        {
          "name": "stdout",
          "text": "k1\nk2\nk3\nineroun\ndatascience\n",
          "output_type": "stream"
        }
      ]
    },
    {
      "cell_type": "code",
      "source": "#q13.filter alpha numberic:\ns = str(l)\na = s.isalnum()\nfor i in s:\n    if i in s:\n        print(i)",
      "metadata": {
        "trusted": true
      },
      "execution_count": 2,
      "outputs": [
        {
          "name": "stdout",
          "text": "[\n[\n1\n,\n \n2\n,\n \n3\n,\n \n4\n]\n,\n \n(\n2\n,\n \n3\n,\n \n4\n,\n \n5\n,\n \n6\n)\n,\n \n(\n3\n,\n \n4\n,\n \n5\n,\n \n6\n,\n \n7\n)\n,\n \n[\n2\n3\n,\n \n4\n,\n \n5\n,\n \n4\n5\n,\n \n4\n,\n \n4\n,\n \n5\n,\n \n4\n5\n,\n \n4\n5\n,\n \n4\n,\n \n5\n]\n,\n \n{\n'\nk\n1\n'\n:\n \n'\nv\na\nr\ns\nh\na\n'\n,\n \n'\nk\n2\n'\n:\n \n'\ni\nn\ne\nr\no\nu\nn\n'\n,\n \n'\nk\n3\n'\n:\n \n'\nG\nS\n'\n,\n \n3\n:\n \n6\n,\n \n7\n:\n \n8\n}\n,\n \n[\n'\ni\nn\ne\nr\no\nu\nn\n'\n,\n \n'\nd\na\nt\na\ns\nc\ni\ne\nn\nc\ne\n'\n]\n]\n",
          "output_type": "stream"
        }
      ]
    },
    {
      "cell_type": "code",
      "source": "#q14. multiplication all the datas\nfor i in l:\n    if type(i) == list or type(i) == tuple or type == set:\n        for j in i:\n            if type(j) == int:\n                print(j, \":\" ,j*5)\n            if type(j) == str:\n                print(j)\n            \n",
      "metadata": {
        "trusted": true
      },
      "execution_count": 68,
      "outputs": [
        {
          "name": "stdout",
          "text": "1 : 5\n2 : 10\n3 : 15\n4 : 20\n2 : 10\n3 : 15\n4 : 20\n5 : 25\n6 : 30\n3 : 15\n4 : 20\n5 : 25\n6 : 30\n7 : 35\n23 : 115\n4 : 20\n5 : 25\n45 : 225\n4 : 20\n4 : 20\n5 : 25\n45 : 225\n45 : 225\n4 : 20\n5 : 25\nineroun\ndatascience\n",
          "output_type": "stream"
        }
      ]
    },
    {
      "cell_type": "code",
      "source": "#q15. try to unwrap all the collection inside the collection and create a flat list\n\nl1 = []\nl2 = []\nl3 = []\nmul = 1\nfor i in l:\n    if type(i) == list or type(i) == tuple or type(i) == set:\n        for j in i:\n            l1.append(j)\n    if type(i) == dict:\n        for x,y in i.items():\n            l2.append(x)\n            l3.append(y)\nn = l1+l2+l3\nprint(n)",
      "metadata": {
        "trusted": true
      },
      "execution_count": null,
      "outputs": []
    },
    {
      "cell_type": "code",
      "source": "",
      "metadata": {},
      "execution_count": null,
      "outputs": []
    }
  ]
}